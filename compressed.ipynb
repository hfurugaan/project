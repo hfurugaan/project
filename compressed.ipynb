{
 "cells": [
  {
   "cell_type": "code",
   "execution_count": 3,
   "metadata": {},
   "outputs": [],
   "source": [
    "import pandas as pd\n",
    "import numpy as np\n",
    "from sklearn.model_selection import train_test_split\n",
    "from sklearn.preprocessing import RobustScaler\n",
    "from sklearn.preprocessing import LabelEncoder\n",
    "\n",
    "def prepare_nsl_kdd_data(train_path, test_path, validation_split=0.25, random_state=42):\n",
    "    # Define column names\n",
    "    columns = ['duration','protocol_type','service','flag','src_bytes','dst_bytes','land','wrong_fragment','urgent','hot',\n",
    "               'num_failed_logins','logged_in','num_compromised','root_shell','su_attempted','num_root','num_file_creations',\n",
    "               'num_shells','num_access_files','num_outbound_cmds','is_host_login','is_guest_login','count','srv_count',\n",
    "               'serror_rate','srv_serror_rate','rerror_rate','srv_rerror_rate','same_srv_rate','diff_srv_rate','srv_diff_host_rate',\n",
    "               'dst_host_count','dst_host_srv_count','dst_host_same_srv_rate','dst_host_diff_srv_rate','dst_host_same_src_port_rate',\n",
    "               'dst_host_srv_diff_host_rate','dst_host_serror_rate','dst_host_srv_serror_rate','dst_host_rerror_rate',\n",
    "               'dst_host_srv_rerror_rate','attack','level']\n",
    "    \n",
    "    # Load data\n",
    "    train_df = pd.read_csv(train_path, sep=\",\", names=columns)\n",
    "    test_df = pd.read_csv(test_path, sep=\",\", names=columns)\n",
    "    \n",
    "    # Classify attacks\n",
    "    Trained_attack = train_df.attack.map(lambda a: 0 if a == 'normal' else 1)\n",
    "    Tested_attack = test_df.attack.map(lambda a: 0 if a == 'normal' else 1)\n",
    "\n",
    "    train_df['attack_state'] = Trained_attack\n",
    "    test_df['attack_state'] = Tested_attack\n",
    "    \n",
    "    # One-hot encoding\n",
    "    train_df = pd.get_dummies(train_df,columns=['protocol_type','service','flag'], prefix=\"\", prefix_sep=\"\")\n",
    "    test_df = pd.get_dummies(test_df,columns=['protocol_type','service','flag'],prefix=\"\",prefix_sep=\"\")\n",
    "    \n",
    "    LE = LabelEncoder()\n",
    "    attack_LE= LabelEncoder()\n",
    "    train_df['attack'] = attack_LE.fit_transform(train_df[\"attack\"])\n",
    "    test_df['attack'] = attack_LE.fit_transform(test_df[\"attack\"])\n",
    "    \n",
    "    # Data Splitting\n",
    "    X_train = train_df.drop(['attack', 'level', 'attack_state'], axis=1)\n",
    "    X_test = test_df.drop(['attack', 'level', 'attack_state'], axis=1)\n",
    "\n",
    "    Y_train = train_df['attack_state']\n",
    "    Y_test = test_df['attack_state']\n",
    "    \n",
    "    X_train_train, X_test_train, Y_train_train, Y_test_train = train_test_split(X_train, Y_train, test_size= 0.25 , random_state=42)\n",
    "    X_train_test, X_test_test, Y_train_test, Y_test_test = train_test_split(X_test, Y_test, test_size= 0.25 , random_state=42)\n",
    "    \n",
    "    # Data scaling\n",
    "    Ro_scaler = RobustScaler()\n",
    "    X_train_train = Ro_scaler.fit_transform(X_train_train) \n",
    "    X_test_train= Ro_scaler.transform(X_test_train)\n",
    "    X_train_test = Ro_scaler.fit_transform(X_train_test) \n",
    "    X_test_test= Ro_scaler.transform(X_test_test)\n",
    "    \n",
    "    X_train = X_train.astype(int)\n",
    "    X_test = X_test.astype(int)\n",
    "    \n",
    "    return (X_train_train, Y_train_train, X_test_train, Y_test_train, X_test, Y_test)\n",
    "\n",
    "# Usage example:\n",
    "X_train_train, Y_train_train, X_test_train, Y_test_train, X_test, Y_test = prepare_nsl_kdd_data(\"nsl-kdd-data/KDDTrain+.txt\", \"nsl-kdd-data/KDDTest+.txt\")"
   ]
  },
  {
   "cell_type": "code",
   "execution_count": 4,
   "metadata": {},
   "outputs": [
    {
     "name": "stdout",
     "output_type": "stream",
     "text": [
      "Training Score: 0.9999788312746748\n",
      "Validation Score: 0.9987934209690734\n"
     ]
    }
   ],
   "source": [
    "import pickle\n",
    "with open('Random_Forest.pkl', 'rb') as file:\n",
    "    loaded_DT = pickle.load(file)\n",
    "\n",
    "# Use the loaded model for scoring\n",
    "training_score = loaded_DT.score(X_train_train, Y_train_train)\n",
    "validation_score = loaded_DT.score(X_test_train, Y_test_train)\n",
    "\n",
    "print(f\"Training Score: {training_score}\")\n",
    "print(f\"Validation Score: {validation_score}\")"
   ]
  }
 ],
 "metadata": {
  "kernelspec": {
   "display_name": ".venv",
   "language": "python",
   "name": "python3"
  },
  "language_info": {
   "codemirror_mode": {
    "name": "ipython",
    "version": 3
   },
   "file_extension": ".py",
   "mimetype": "text/x-python",
   "name": "python",
   "nbconvert_exporter": "python",
   "pygments_lexer": "ipython3",
   "version": "3.10.11"
  }
 },
 "nbformat": 4,
 "nbformat_minor": 2
}
